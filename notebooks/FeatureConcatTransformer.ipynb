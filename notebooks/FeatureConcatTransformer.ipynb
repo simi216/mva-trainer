{
 "cells": [
  {
   "cell_type": "code",
   "execution_count": null,
   "id": "0",
   "metadata": {},
   "outputs": [],
   "source": [
    "import sys\n",
    "\n",
    "sys.path.append(\"..\")  # Ensure the parent directory is in the path\n",
    "\n",
    "import core.assignment_models as Models\n",
    "from core.DataLoader import DataPreprocessor, DataConfig, LoadConfig\n",
    "import core\n",
    "import numpy as np\n",
    "from importlib import reload\n",
    "import keras\n",
    "import matplotlib.pyplot as plt\n",
    "import yaml\n",
    "\n",
    "MAX_JETS = 6\n",
    "\n",
    "PLOTS_DIR = f\"plots/transformer/\"\n",
    "import os\n",
    "\n",
    "if not os.path.exists(PLOTS_DIR):\n",
    "    os.makedirs(PLOTS_DIR)\n",
    "\n",
    "neutrino_momenta_branches = [\"nu_flows_neutriono_p_x\", \"nu_flows_neutriono_p_y\", \"nu_flows_neutriono_p_z\", \"nu_flows_anti_neutriono_p_x\", \"nu_flows_anti_neutriono_p_y\", \"nu_flows_anti_neutriono_p_z\"]\n",
    "truth_neutrino_momenta_branches = [\"truth_tbar_neutriono_px\", \"truth_tbar_neutriono_py\", \"truth_tbar_neutriono_pz\", \"truth_top_neutriono_px\", \"truth_top_neutriono_py\", \"truth_top_neutriono_pz\"]\n",
    "\n",
    "load_config = LoadConfig(\n",
    "    jet_features=[\n",
    "        \"ordered_jet_pt\",\n",
    "        \"ordered_jet_eta\",\n",
    "        \"ordered_jet_phi\",\n",
    "        \"ordered_jet_e\",\n",
    "        \"ordered_jet_b_tag\",\n",
    "    ],\n",
    "    lepton_features=[\"lep_pt\", \"lep_eta\", \"lep_phi\", \"lep_e\"],\n",
    "    jet_truth_label=\"ordered_event_jet_truth_idx\",\n",
    "    lepton_truth_label=\"event_lepton_truth_idx\",\n",
    "    met_features=[\"met_met_NOSYS\", \"met_phi_NOSYS\"],\n",
    "    max_leptons=2,\n",
    "    max_jets=MAX_JETS,\n",
    "    non_training_features=[\"truth_ttbar_mass\", \"truth_ttbar_pt\", \"N_jets\", \"truth_initial_parton_num_gluons\", \"truth_top_mass\", \"truth_tbar_mass\"] + neutrino_momenta_branches+truth_neutrino_momenta_branches,\n",
    "    event_weight=\"weight_mc_NOSYS\",\n",
    ")\n",
    "\n",
    "DataProcessor = DataPreprocessor(load_config)\n",
    "data_config_path = \"data_config.yaml\"\n",
    "with open(data_config_path, 'r') as file:\n",
    "    data_configs = yaml.safe_load(file)\n",
    "\n",
    "DataProcessor.load_data(data_configs[\"nominal\"][\"data_path\"], \"reco\", max_events = 1000000)\n",
    "X_train, y_train, X_val, y_val = DataProcessor.split_data(\n",
    "    test_size=0.1, random_state=42\n",
    ")\n",
    "\n",
    "data_config = load_config.to_data_config()"
   ]
  },
  {
   "cell_type": "code",
   "execution_count": null,
   "id": "1",
   "metadata": {},
   "outputs": [],
   "source": [
    "reload(Models)\n",
    "reload(core)\n",
    "TransformerMatcher = Models.FeatureConcatTransformer(data_config, name=\"Transformer\")\n",
    "\n",
    "TransformerMatcher.build_model(\n",
    "    num_heads=8,\n",
    "    hidden_dim=64,\n",
    "    num_layers=6,\n",
    "    dropout_rate=0.1,\n",
    "    input_as_four_vector=True,\n",
    ")\n",
    "\n",
    "TransformerMatcher.adapt_normalization_layers(X_train)\n",
    "\n",
    "TransformerMatcher.compile_model(\n",
    "    loss = core.utils.AssignmentLoss(lambda_excl=0), optimizer=keras.optimizers.AdamW(learning_rate=1e-4, weight_decay=1e-4), metrics=[core.utils.AssignmentAccuracy()]\n",
    ")\n",
    "TransformerMatcher.load_model(\"Transformer_Assignment.keras\")\n",
    "TransformerMatcher.model.summary()"
   ]
  },
  {
   "cell_type": "code",
   "execution_count": null,
   "id": "2",
   "metadata": {},
   "outputs": [],
   "source": [
    "TransformerMatcher.train_model(epochs=0,\n",
    "                                X_train=X_train,\n",
    "                                y_train=y_train,\n",
    "                                sample_weights=core.utils.compute_sample_weights(X_train, y_train),\n",
    "                                batch_size=1028,\n",
    "                                callbacks = keras.callbacks.EarlyStopping(monitor=\"val_loss\", patience=50, restore_best_weights=True, mode =\"min\"))"
   ]
  },
  {
   "cell_type": "code",
   "execution_count": null,
   "id": "3",
   "metadata": {},
   "outputs": [],
   "source": [
    "TransformerMatcher.save_model(\"Transformer_Assignment.keras\")"
   ]
  },
  {
   "cell_type": "code",
   "execution_count": null,
   "id": "4",
   "metadata": {},
   "outputs": [],
   "source": [
    "import core.assignment_models.BaselineAssignmentMethods as BaselineMethods\n",
    "import core.reconstruction.Evaluation as Evaluation\n",
    "reload(Evaluation)\n",
    "reload(BaselineMethods)\n",
    "delta_r_assigner = BaselineMethods.DeltaRAssigner(data_config, name=r\"$\\Delta R(\\ell,j)$-Assignment\")\n",
    "invariant_mass_assigner = BaselineMethods.LeptonJetMassAssigner(data_config, name = r\"$m(\\ell, j)$-Assignment\")\n",
    "combinatorics_assigner = BaselineMethods.MassCombinatoricsAssigner(data_config, neutrino_momenta_branches=neutrino_momenta_branches,top_mass=173.5e3, name=r\"Mass-Combinatorics Assignment\")\n",
    "ground_truth_assigner = Evaluation.GroundTruthReconstructor(data_config, name=\"Ground Truth\")\n",
    "evaluator = Evaluation.ReconstructionEvaluator([delta_r_assigner,invariant_mass_assigner,combinatorics_assigner,TransformerMatcher, ground_truth_assigner], X_val, y_val, neutrino_momenta_branches=truth_neutrino_momenta_branches)"
   ]
  },
  {
   "cell_type": "code",
   "execution_count": null,
   "id": "5",
   "metadata": {},
   "outputs": [],
   "source": [
    "fig, ax = evaluator.plot_binned_top_mass_resolution(feature_data_type='non_training', feature_name='truth_ttbar_mass', fancy_feautre_label=r\"$m(t\\overline{t})$ [GeV]\", xlims = (340e3,800e3))\n",
    "fig.savefig(PLOTS_DIR + \"top_mass_resolution_comparison.png\")"
   ]
  },
  {
   "cell_type": "code",
   "execution_count": null,
   "id": "6",
   "metadata": {},
   "outputs": [],
   "source": [
    "fig, ax = evaluator.plot_all_accuracies()\n",
    "fig.savefig(PLOTS_DIR + \"all_accuracies.pdf\")"
   ]
  },
  {
   "cell_type": "code",
   "execution_count": null,
   "id": "7",
   "metadata": {},
   "outputs": [],
   "source": [
    "fig, ax = evaluator.plot_binned_complementarity(feature_data_type='non_training', feature_name='truth_ttbar_mass', fancy_feautre_label=r\"$m(t\\overline{t})$ [GeV]\", xlims = (340e3,800e3))\n",
    "fig.savefig(PLOTS_DIR + \"binned_complementarity_ttbar_mass.pdf\")"
   ]
  },
  {
   "cell_type": "code",
   "execution_count": null,
   "id": "8",
   "metadata": {},
   "outputs": [],
   "source": [
    "fig, ax = evaluator.plot_binned_accuracy(feature_data_type='non_training', feature_name='truth_ttbar_mass', fancy_feautre_label=r\"$m(t\\overline{t})$ [GeV]\", xlims = (340e3,800e3))\n",
    "fig.savefig(PLOTS_DIR + \"binned_accuracy_ttbar_mass.pdf\")"
   ]
  },
  {
   "cell_type": "code",
   "execution_count": null,
   "id": "9",
   "metadata": {},
   "outputs": [],
   "source": [
    "fig, ax = evaluator.plot_binned_accuracy(feature_data_type='non_training', feature_name='truth_ttbar_pt', fancy_feautre_label=r\"$p_T(t\\overline{t})$ [GeV]\", xlims = (0,400e3))\n",
    "fig.savefig(PLOTS_DIR + \"binned_accuracy_ttbar_pT.pdf\")"
   ]
  },
  {
   "cell_type": "code",
   "execution_count": null,
   "id": "10",
   "metadata": {},
   "outputs": [],
   "source": [
    "fig, ax = evaluator.plot_binned_accuracy(feature_data_type='non_training', feature_name='truth_initial_parton_num_gluons', fancy_feautre_label=r\"Initial State\", xlims = (0,3),bins = 3 )\n",
    "ax.set_xticks([0.5,1.5,2.5])\n",
    "ax.set_xticklabels([r\"$qq\\to tt$\", r\"$qg\\to tt$\", r\"$gg\\to tt$\"])\n",
    "fig.savefig(PLOTS_DIR + \"binned_accuracy_initial_state.pdf\")"
   ]
  },
  {
   "cell_type": "code",
   "execution_count": null,
   "id": "11",
   "metadata": {},
   "outputs": [],
   "source": [
    "fig, ax = evaluator.plot_binned_accuracy(feature_data_type='non_training', feature_name='N_jets', fancy_feautre_label=r\"$\\# \\text{jets}$\", xlims = (2,6),bins = 4 )\n",
    "ax.set_xticks([2.5,3.5,4.5,5.5])\n",
    "ax.set_xticklabels([2,3,4,5])\n",
    "fig.savefig(PLOTS_DIR + \"binned_accuracy_N_jets.pdf\")"
   ]
  },
  {
   "cell_type": "code",
   "execution_count": null,
   "id": "12",
   "metadata": {},
   "outputs": [],
   "source": [
    "fig,ax = evaluator.plot_confusion_matrices()\n",
    "fig.savefig(PLOTS_DIR + \"confusion_matrices.pdf\")"
   ]
  },
  {
   "cell_type": "code",
   "execution_count": null,
   "id": "13",
   "metadata": {},
   "outputs": [],
   "source": [
    "fig, ax = evaluator.plot_complementarity_matrix(figsize=(8.5,8))\n",
    "fig.savefig(PLOTS_DIR + \"complementarity_matrix.pdf\")"
   ]
  },
  {
   "cell_type": "code",
   "execution_count": null,
   "id": "14",
   "metadata": {},
   "outputs": [],
   "source": []
  }
 ],
 "metadata": {
  "kernelspec": {
   "display_name": "venv",
   "language": "python",
   "name": "python3"
  },
  "language_info": {
   "codemirror_mode": {
    "name": "ipython",
    "version": 3
   },
   "file_extension": ".py",
   "mimetype": "text/x-python",
   "name": "python",
   "nbconvert_exporter": "python",
   "pygments_lexer": "ipython3",
   "version": "3.9.23"
  }
 },
 "nbformat": 4,
 "nbformat_minor": 5
}

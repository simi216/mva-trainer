{
 "cells": [
  {
   "cell_type": "code",
   "execution_count": null,
   "id": "0",
   "metadata": {},
   "outputs": [],
   "source": [
    "import sys\n",
    "sys.path.append(\"..\")\n",
    "from core.DataLoader import DataPreprocessor, DataConfig, LoadConfig\n",
    "import numpy as np\n",
    "from importlib import reload\n",
    "import matplotlib.pyplot as plt\n",
    "import yaml\n",
    "MAX_JETS = 4\n",
    "PLOTS_DIR = f\"plots/feature_plots/\"\n",
    "import os\n",
    "if not os.path.exists(PLOTS_DIR):\n",
    "    os.makedirs(PLOTS_DIR)\n"
   ]
  },
  {
   "cell_type": "code",
   "execution_count": null,
   "id": "1",
   "metadata": {},
   "outputs": [],
   "source": [
    "load_config = LoadConfig(jet_features=[\"ordered_jet_pt\",\"ordered_jet_eta\", \"ordered_jet_phi\",\"ordered_jet_e\",\"ordered_jet_b_tag\",\"m_l2j\",\"m_l1j\",\"dR_l1j\",\"dR_l2j\"], \n",
    "                                lepton_features=[\"lep_pt\", \"lep_eta\", \"lep_phi\", \"lep_e\", \"lep_charge\"],\n",
    "                                jet_truth_label=\"ordered_event_jet_truth_idx\", \n",
    "                                lepton_truth_label=\"event_lepton_truth_idx\", \n",
    "                                met_features = [\"met_met_NOSYS\",\"met_phi_NOSYS\"], \n",
    "                                max_leptons=2, \n",
    "                                max_jets = MAX_JETS, \n",
    "                                non_training_features =[\"truth_ttbar_mass\", \"truth_ttbar_pt\", \"N_jets\", \"dR_l1l2\",\"Ttbar_MC_t_afterFSR_m\",\"Ttbar_MC_tbar_afterFSR_m\",\"Ttbar_MC_W_afterFSR_from_t_m\",\"Ttbar_MC_W_afterFSR_from_tbar_m\"], \n",
    "                                event_weight=\"weight_mc_NOSYS\")\n",
    "\n",
    "DataProcessor = DataPreprocessor(load_config)\n",
    "\n",
    "data_config_path = \"data_config.yaml\"\n",
    "with open(data_config_path, 'r') as file:\n",
    "    data_configs = yaml.safe_load(file)\n",
    "\n",
    "DataProcessor.load_data(data_configs[\"nominal\"][\"data_path\"], \"reco\", max_events = 1000000)\n"
   ]
  },
  {
   "cell_type": "code",
   "execution_count": null,
   "id": "2",
   "metadata": {},
   "outputs": [],
   "source": [
    "N_jets = DataProcessor.get_feature_data(\"non_training\", \"N_jets\")"
   ]
  },
  {
   "cell_type": "code",
   "execution_count": null,
   "id": "3",
   "metadata": {},
   "outputs": [],
   "source": [
    "def assign_prob(n):\n",
    "    return 1/(n*(n-1))\n",
    "n_bins = 5\n",
    "fig, ax = plt.subplots()\n",
    "hist, bins = np.histogram(N_jets, bins = n_bins, range=(2,2 + n_bins), density=True)\n",
    "assign_probs = assign_prob(bins[:-1])\n",
    "bin_centers = (bins[:-1] + bins[1:])/2\n",
    "bin_centers = np.concatenate([bin_centers, [bin_centers[-1] + 1]])\n",
    "assign_probs = np.concatenate([assign_probs,[ np.dot(assign_probs, hist)]])\n",
    "xtick_labels = np.concatenate([[f\"{bins[i]}\" for i in range(n_bins)], [f\"Average\\n {np.mean(N_jets):.2f}\"]])\n",
    "\n",
    "hist = np.concatenate([hist,[1/n_bins]])\n",
    "\n",
    "\n",
    "bar = ax.bar(bin_centers,width=1,height = hist, align=\"center\", edgecolor=\"black\", color=\"red\", alpha = 0.7)\n",
    "for index,rect in enumerate(bar):\n",
    "    height = rect.get_height()\n",
    "    plt.text(rect.get_x() + rect.get_width()/2.0, height, f\"{assign_probs[index]:.3f}\", ha='center', va='bottom', color=\"black\", bbox = dict(facecolor=\"green\"))\n",
    "\n",
    "ax.axvline(x = bins[-1], color=\"black\", linewidth=4)\n",
    "ax.set_xticks(bin_centers)\n",
    "ax.set_xticklabels(xtick_labels)\n",
    "ax.set_xlim(2, 2 + n_bins + 1)\n",
    "ax.set_ylabel(\"Fraction of Events\")\n",
    "ax.set_xlabel(r\"$\\#\\text{jets}$\")\n",
    "fig.tight_layout()\n",
    "fig.savefig(PLOTS_DIR + \"Jet_multiplicity.pdf\")\n"
   ]
  },
  {
   "cell_type": "code",
   "execution_count": null,
   "id": "4",
   "metadata": {},
   "outputs": [],
   "source": [
    "def compute_closest_non_matching_jet(data_dict, padding_value=-999):\n",
    "    jet_eta = data_dict['jet'][:, :, 1]\n",
    "    jet_phi = data_dict['jet'][:, :, 2]\n",
    "    lep_eta = data_dict['lepton'][:,:, 1]\n",
    "    lep_phi = data_dict['lepton'][:,:, 2]\n",
    "    labels = data_dict['assignment_labels']\n",
    "    compute_closest_non_matching_jet = np.full((jet_eta.shape[0], 2), -1, dtype=float)\n",
    "    for i in range(jet_eta.shape[0]):\n",
    "        for lep_idx in range(2):\n",
    "            min_dR = float('inf')\n",
    "            match_dR = -1\n",
    "            for jet_idx in range(jet_eta.shape[1]):\n",
    "                if jet_eta[i, jet_idx] == padding_value:\n",
    "                    continue\n",
    "                if labels[i,jet_idx, lep_idx]:\n",
    "                    match_dR = np.sqrt((jet_eta[i, jet_idx] - lep_eta[i, lep_idx])**2 + (jet_phi[i, jet_idx] - lep_phi[i, lep_idx])**2)\n",
    "                    continue\n",
    "                dR = np.sqrt((jet_eta[i, jet_idx] - lep_eta[i, lep_idx])**2 + (jet_phi[i, jet_idx] - lep_phi[i, lep_idx])**2)\n",
    "                if dR < min_dR and not labels[i,jet_idx, lep_idx]:\n",
    "                    min_dR = dR\n",
    "            compute_closest_non_matching_jet[i, lep_idx] = min_dR - match_dR\n",
    "    return np.min(compute_closest_non_matching_jet, axis = 1)"
   ]
  },
  {
   "cell_type": "code",
   "execution_count": null,
   "id": "5",
   "metadata": {},
   "outputs": [],
   "source": [
    "import core.DataPlotting as DataPlotting\n",
    "reload(DataPlotting)\n",
    "data_plotter = DataPlotting.DataPlotter(DataProcessor, plots_dir=PLOTS_DIR)\n",
    "data_plotter.add_feature(compute_closest_non_matching_jet, name=\"closest_non_matching\")"
   ]
  },
  {
   "cell_type": "code",
   "execution_count": null,
   "id": "6",
   "metadata": {},
   "outputs": [],
   "source": [
    "DataProcessor.get_feature_data(\"custom\", \"closest_non_matching\")"
   ]
  },
  {
   "cell_type": "code",
   "execution_count": null,
   "id": "7",
   "metadata": {},
   "outputs": [],
   "source": [
    "fig, ax = data_plotter.plot_2d_feature_distribution(\"non_training\", \"truth_ttbar_mass\", \"non_training\", \"N_jets\", plot_average = True,normalise=\"x\", bins=[10, 5], range =[[340e3, 800e3],[2, 7]])\n",
    "x_ticks = ax.get_xticks()\n",
    "x_tick_labels = [f\"{int(x/1e3)}\" for x in x_ticks]\n",
    "ax.set_xticks(x_ticks)\n",
    "ax.set_xlim(340e3, 800e3)\n",
    "ax.set_xticklabels(x_tick_labels)\n",
    "ax.set_xlabel(r\"$m_{t\\bar{t}}$ [GeV]\")\n",
    "ax.set_ylabel(r\"$\\#\\text{jets}$\")\n",
    "fig.savefig(PLOTS_DIR + \"N_jets_vs_ttbar_mass.pdf\")"
   ]
  },
  {
   "cell_type": "code",
   "execution_count": null,
   "id": "8",
   "metadata": {},
   "outputs": [],
   "source": [
    "fig, ax = data_plotter.plot_2d_feature_distribution(\"non_training\", \"truth_ttbar_mass\", \"custom\", \"closest_non_matching\", plot_average=True,normalise=\"x\", bins=10, range =[[340e3, 800e3],[-3, 3]], density = True)\n",
    "x_ticks = ax.get_xticks()\n",
    "x_tick_labels = [f\"{int(tick/1e3)}\" for tick in x_ticks]\n",
    "ax.set_xticks(x_ticks)\n",
    "ax.set_xticklabels(x_tick_labels)\n",
    "ax.axhline(y=0, color='black', linestyle='--')\n",
    "ax.set_xlim(340e3, 800e3)\n",
    "ax.set_xlabel(r\"$m(t\\bar{t})$ [GeV]\")\n",
    "ax.set_ylabel(r\"$\\Delta R(\\ell,\\text{closest jet})$ - $\\Delta R(\\ell,\\text{true jet})$\")\n",
    "ax.set_title(r\"$m(t\\bar{t})$ vs. $\\Delta R(\\ell, \\text{jet})$ Distribution\")\n",
    "plt.savefig(f\"{PLOTS_DIR}/ttbar_mass_vs_deltaR_lep_nonmatch.pdf\")"
   ]
  },
  {
   "cell_type": "code",
   "execution_count": null,
   "id": "9",
   "metadata": {},
   "outputs": [],
   "source": [
    "data_plotter.register_data_cut(\"non_training\", \"N_jets\", lambda x: x == 2)\n",
    "fig, ax = data_plotter.plot_2d_feature_distribution(\"non_training\", \"truth_ttbar_mass\", \"custom\", \"closest_non_matching\", plot_average=True,normalise=\"x\", bins=10, range =[[340e3, 800e3],[-3, 3]], density = True)\n",
    "x_ticks = ax.get_xticks()\n",
    "x_tick_labels = [f\"{int(tick/1e3)}\" for tick in x_ticks]\n",
    "ax.set_xticks(x_ticks)\n",
    "ax.set_xticklabels(x_tick_labels)\n",
    "ax.axhline(y=0, color='black', linestyle='--')\n",
    "ax.set_xlim(340e3, 800e3)\n",
    "ax.set_xlabel(r\"$m(t\\bar{t})$ [GeV]\")\n",
    "ax.set_ylabel(r\"$\\Delta R(\\ell,\\text{closest jet})$ - $\\Delta R(\\ell,\\text{true jet})$\")\n",
    "ax.set_title(r\"$m(t\\bar{t})$ vs. $\\Delta R(\\ell, \\text{jet})$ Distribution (N_jets = 2)\")\n",
    "plt.savefig(f\"{PLOTS_DIR}/ttbar_mass_vs_deltaR_lep_nonmatch_n_jet_2.pdf\")"
   ]
  },
  {
   "cell_type": "code",
   "execution_count": null,
   "id": "10",
   "metadata": {},
   "outputs": [],
   "source": [
    "data_plotter.reset_data_cuts()\n",
    "fig, ax = data_plotter.plot_2d_feature_distribution(\"non_training\", \"truth_ttbar_mass\", \"non_training\", \"dR_l1l2\", bins=(20, 20), plot_average=True, range =[[ 340e3, 800e3],[0, 4]], density = True)\n",
    "x_ticks = ax.get_xticks()\n",
    "x_tick_labels = [f\"{int(tick/1e3)}\" for tick in x_ticks]\n",
    "ax.set_xticks(x_ticks)\n",
    "ax.set_xticklabels(x_tick_labels)\n",
    "ax.set_xlim(340e3, 800e3)\n",
    "ax.set_xlabel(r\"$m(t\\bar{t})$ [GeV]\")\n",
    "ax.set_ylabel(r\"$\\Delta R(\\ell_1, \\ell_2)$\")\n",
    "ax.set_title(r\"$m(t\\bar{t})$ vs. $\\Delta R(\\ell_1, \\ell_2)$ Distribution\")\n",
    "#fig.suptitle(r\"$m(t\\bar{t})$ vs. $\\Delta R(\\ell_1, \\ell_2)$ Distribution\")\n",
    "fig.tight_layout()\n",
    "fig.savefig(f\"{PLOTS_DIR}/ttbar_mass_vs_dR_l1l2.pdf\")\n",
    "\n"
   ]
  },
  {
   "cell_type": "code",
   "execution_count": null,
   "id": "11",
   "metadata": {},
   "outputs": [],
   "source": [
    "def delta_R(jet_features, lepton_features):\n",
    "    delta_eta = jet_features[1] - lepton_features[1]\n",
    "    delta_phi = jet_features[2] - lepton_features[2]\n",
    "    delta_phi = (delta_phi + np.pi) % (2 * np.pi) - np.pi\n",
    "    return np.sqrt(delta_eta**2 + delta_phi**2)\n",
    "\n",
    "def invariant_mass(jet_features, lepton_features):\n",
    "    jet_e = jet_features[3]\n",
    "    jet_px = jet_features[0] * np.cos(jet_features[2])\n",
    "    jet_py = jet_features[0] * np.sin(jet_features[2])\n",
    "    jet_pz = jet_features[0] * np.sinh(jet_features[1])\n",
    "\n",
    "    lep_e = lepton_features[3]\n",
    "    lep_px = lepton_features[0] * np.cos(lepton_features[2])\n",
    "    lep_py = lepton_features[0] * np.sin(lepton_features[2])\n",
    "    lep_pz = lepton_features[0] * np.sinh(lepton_features[1])\n",
    "\n",
    "    total_e = jet_e + lep_e\n",
    "    total_px = jet_px + lep_px\n",
    "    total_py = jet_py + lep_py\n",
    "    total_pz = jet_pz + lep_pz\n",
    "\n",
    "    return np.sqrt(total_e**2 - total_px**2 - total_py**2 - total_pz**2)\n",
    "\n",
    "fig, ax = data_plotter.plot_relational_jet_lepton_features(delta_R, r\"$\\Delta R(\\ell, \\text{jet})$\", bins=50, range=(0, 5))\n",
    "ax.set_title(\"Relational Jet-Lepton $\\Delta R$ Distribution for All Events\")\n",
    "fig.tight_layout()\n",
    "fig.savefig(PLOTS_DIR + \"relational_jet_lepton_deltaR_distribution.pdf\")\n",
    "fig, ax = data_plotter.plot_relational_jet_lepton_features(invariant_mass, r\"$m(\\ell, \\text{jet})$\", bins=50, range=(0, 500e3))\n",
    "ax.set_title(\"Relational Jet-Lepton Invariant Mass Distribution for All Events\")\n",
    "fig.tight_layout()\n",
    "fig.savefig(PLOTS_DIR + \"relational_jet_lepton_invariant_mass_distribution.pdf\")\n",
    "\n",
    "\n",
    "\n",
    "# For m_tt < 390 GeV\n",
    "data_plotter.register_data_cut(\"non_training\", \"truth_ttbar_mass\", lambda x: x < 390e3)\n",
    "fig, ax = data_plotter.plot_relational_jet_lepton_features(delta_R, r\"$\\Delta R(\\ell, \\text{jet})$\", bins=50, range=(0, 5))\n",
    "ax.set_title(r\"Relational Jet-Lepton $\\Delta R$ Distribution for $m_{tt} < 390$ GeV\")\n",
    "fig.tight_layout()\n",
    "fig.savefig(PLOTS_DIR + \"relational_jet_lepton_deltaR_distribution_m_tt_390GeV.pdf\")\n",
    "fig, ax = data_plotter.plot_relational_jet_lepton_features(invariant_mass, r\"$m(\\ell, \\text{jet})$\", bins=50, range=(0, 500e3))\n",
    "ax.set_title(r\"Relational Jet-Lepton Invariant Mass Distribution for $m_{tt} < 390$ GeV\")\n",
    "fig.tight_layout()\n",
    "fig.savefig(PLOTS_DIR + \"relational_jet_lepton_invariant_mass_distribution_m_tt_390GeV.pdf\")\n"
   ]
  },
  {
   "cell_type": "code",
   "execution_count": null,
   "id": "12",
   "metadata": {},
   "outputs": [],
   "source": []
  }
 ],
 "metadata": {
  "kernelspec": {
   "display_name": "venv",
   "language": "python",
   "name": "python3"
  },
  "language_info": {
   "codemirror_mode": {
    "name": "ipython",
    "version": 3
   },
   "file_extension": ".py",
   "mimetype": "text/x-python",
   "name": "python",
   "nbconvert_exporter": "python",
   "pygments_lexer": "ipython3",
   "version": "3.9.23"
  }
 },
 "nbformat": 4,
 "nbformat_minor": 5
}

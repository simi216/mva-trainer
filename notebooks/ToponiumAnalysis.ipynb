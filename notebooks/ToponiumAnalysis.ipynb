{
 "cells": [
  {
   "cell_type": "code",
   "execution_count": null,
   "id": "0",
   "metadata": {},
   "outputs": [],
   "source": [
    "import sys\n",
    "\n",
    "sys.path.append(\"..\")  # Ensure the parent directory is in the path\n",
    "\n",
    "import core.assignment_models as Models\n",
    "from core.DataLoader import DataPreprocessor, DataConfig, LoadConfig\n",
    "import core\n",
    "import numpy as np\n",
    "from importlib import reload\n",
    "import keras\n",
    "import matplotlib.pyplot as plt\n",
    "import yaml\n",
    "\n",
    "MAX_JETS = 6\n",
    "\n",
    "PLOTS_DIR = f\"plots/toponium/\"\n",
    "MODELS_DIR = f\"models/toponium/\"\n",
    "import os\n",
    "\n",
    "if not os.path.exists(PLOTS_DIR):\n",
    "    os.makedirs(PLOTS_DIR)\n",
    "\n",
    "if not os.path.exists(MODELS_DIR):\n",
    "    os.makedirs(MODELS_DIR)\n",
    "\n",
    "neutrino_momenta_branches = [\n",
    "    \"nu_flows_neutrino_px\",\n",
    "    \"nu_flows_neutrino_py\",\n",
    "    \"nu_flows_neutrino_pz\",\n",
    "    \"nu_flows_anti_neutrino_p_x\",\n",
    "    \"nu_flows_anti_neutrino_p_y\",\n",
    "    \"nu_flows_anti_neutrino_p_z\",\n",
    "]\n",
    "\n",
    "load_config = LoadConfig(\n",
    "    jet_features=[\n",
    "        \"ordered_jet_pt\",\n",
    "        \"ordered_jet_eta\",\n",
    "        \"ordered_jet_phi\",\n",
    "        \"ordered_jet_e\",\n",
    "        \"ordered_jet_b_tag\",\n",
    "    ],\n",
    "    lepton_features=[\"lep_pt\", \"lep_eta\", \"lep_phi\", \"lep_e\"],\n",
    "    jet_truth_label=\"ordered_event_jet_truth_idx\",\n",
    "    lepton_truth_label=\"event_lepton_truth_idx\",\n",
    "    met_features=[\"met_met_NOSYS\", \"met_phi_NOSYS\"],\n",
    "    max_leptons=2,\n",
    "    max_jets=MAX_JETS,\n",
    "    non_training_features=[\n",
    "        \"truth_ttbar_mass\",\n",
    "        \"truth_ttbar_pt\",\n",
    "        \"N_jets\",\n",
    "        \"truth_initial_parton_num_gluons\",\n",
    "    ]\n",
    "    + neutrino_momenta_branches,\n",
    "    event_weight=\"weight_mc_NOSYS\",\n",
    ")\n",
    "\n",
    "DataProcessor = DataPreprocessor(load_config)\n",
    "data_config_path = \"data_config.yaml\"\n",
    "with open(data_config_path, \"r\") as file:\n",
    "    data_configs = yaml.safe_load(file)\n",
    "\n",
    "DataProcessor.load_data(data_configs[\"toponium\"][\"data_path\"], \"reco\")\n",
    "X_train, y_train, X_val, y_val = DataProcessor.split_data(\n",
    "    test_size=0.1, random_state=42\n",
    ")\n",
    "\n",
    "data_config = load_config.to_data_config()"
   ]
  },
  {
   "cell_type": "code",
   "execution_count": null,
   "id": "1",
   "metadata": {},
   "outputs": [],
   "source": [
    "reload(Models)\n",
    "reload(core)\n",
    "TransformerMatcher = Models.FeatureConcatTransformer(data_config, name=\"Transformer\")\n",
    "\n",
    "TransformerMatcher.build_model(\n",
    "    num_heads=8,\n",
    "    hidden_dim=64,\n",
    "    num_layers=6,\n",
    "    dropout_rate=0.1,\n",
    "    input_as_four_vector=True,\n",
    ")\n",
    "TransformerMatcher.adapt_normalization_layers(X_train)\n",
    "\n",
    "TransformerMatcher.compile_model(\n",
    "    loss=core.utils.AssignmentLoss(lambda_excl=0),\n",
    "    optimizer=keras.optimizers.AdamW(learning_rate=1e-4, weight_decay=1e-4),\n",
    "    metrics=[core.utils.AssignmentAccuracy()],\n",
    ")"
   ]
  },
  {
   "cell_type": "code",
   "execution_count": null,
   "id": "2",
   "metadata": {},
   "outputs": [],
   "source": [
    "TransformerMatcher.train_model(\n",
    "    epochs=50,\n",
    "    X_train=X_train,\n",
    "    y_train=y_train,\n",
    "    sample_weights=core.utils.compute_sample_weights(X_train, y_train),\n",
    "    batch_size=1028,\n",
    "    callbacks=keras.callbacks.EarlyStopping(\n",
    "        monitor=\"val_loss\", patience=50, restore_best_weights=True, mode=\"min\"\n",
    "    ),\n",
    ")"
   ]
  },
  {
   "cell_type": "code",
   "execution_count": null,
   "id": "3",
   "metadata": {},
   "outputs": [],
   "source": [
    "TransformerMatcher.save_model(f\"{MODELS_DIR}/FeatureConcatTransformer.keras\")"
   ]
  },
  {
   "cell_type": "code",
   "execution_count": null,
   "id": "4",
   "metadata": {},
   "outputs": [],
   "source": [
    "import core.assignment_models.BaselineAssignmentMethods as BaselineMethods\n",
    "import core.reconstruction.Evaluation as Evaluation\n",
    "\n",
    "reload(Evaluation)\n",
    "reload(BaselineMethods)\n",
    "delta_r_assigner = BaselineMethods.DeltaRAssigner(\n",
    "    data_config, name=r\"$\\Delta R(\\ell,j)$-Assignment\"\n",
    ")\n",
    "invariant_mass_assigner = BaselineMethods.LeptonJetMassAssigner(\n",
    "    data_config, name=r\"$m(\\ell, j)$-Assignment\"\n",
    ")\n",
    "combinatorics_assigner = BaselineMethods.MassCombinatoricsAssigner(\n",
    "    data_config,\n",
    "    neutrino_momenta_branches=neutrino_momenta_branches,\n",
    "    top_mass=173.5e3,\n",
    "    name=r\"Mass-Combinatorics Assignment\",\n",
    ")\n",
    "evaluator = Evaluation.ReconstructionEvaluator(\n",
    "    [\n",
    "        delta_r_assigner,\n",
    "        invariant_mass_assigner,\n",
    "        TransformerMatcher,\n",
    "        combinatorics_assigner,\n",
    "    ],\n",
    "    X_val,\n",
    "    y_val,\n",
    ")"
   ]
  },
  {
   "cell_type": "code",
   "execution_count": null,
   "id": "5",
   "metadata": {},
   "outputs": [],
   "source": [
    "fig, ax = evaluator.plot_all_accuracies()\n",
    "fig.savefig(PLOTS_DIR + \"all_accuracies.pdf\")"
   ]
  },
  {
   "cell_type": "code",
   "execution_count": null,
   "id": "6",
   "metadata": {},
   "outputs": [],
   "source": [
    "fig, ax = evaluator.plot_binned_accuracy(\n",
    "    feature_data_type=\"non_training\",\n",
    "    feature_name=\"truth_ttbar_pt\",\n",
    "    fancy_feautre_label=r\"$p_T(t\\overline{t}) [GeV]$\",\n",
    "    xlims=(0, 400e3),\n",
    ")\n",
    "fig.savefig(PLOTS_DIR + \"binned_accuracy_ttbar_pT.pdf\")"
   ]
  },
  {
   "cell_type": "code",
   "execution_count": null,
   "id": "7",
   "metadata": {},
   "outputs": [],
   "source": [
    "fig, ax = evaluator.plot_binned_accuracy(\n",
    "    feature_data_type=\"non_training\",\n",
    "    feature_name=\"truth_initial_parton_num_gluons\",\n",
    "    fancy_feautre_label=r\"Initial State\",\n",
    "    xlims=(0, 3),\n",
    "    bins=3,\n",
    ")\n",
    "ax.set_xticks([0.5, 1.5, 2.5])\n",
    "ax.set_xticklabels([r\"$qq\\to tt$\", r\"$qg\\to tt$\", r\"$gg\\to tt$\"])\n",
    "fig.savefig(PLOTS_DIR + \"binned_accuracy_initial_state.pdf\")"
   ]
  },
  {
   "cell_type": "code",
   "execution_count": null,
   "id": "8",
   "metadata": {},
   "outputs": [],
   "source": [
    "fig, ax = evaluator.plot_binned_accuracy(\n",
    "    feature_data_type=\"non_training\",\n",
    "    feature_name=\"N_jets\",\n",
    "    fancy_feautre_label=r\"$\\# \\text{jets}$\",\n",
    "    xlims=(2, 6),\n",
    "    bins=4,\n",
    ")\n",
    "ax.set_xticks([2.5, 3.5, 4.5, 5.5])\n",
    "ax.set_xticklabels([2, 3, 4, 5])\n",
    "fig.savefig(PLOTS_DIR + \"binned_accuracy_N_jets.pdf\")"
   ]
  },
  {
   "cell_type": "code",
   "execution_count": null,
   "id": "9",
   "metadata": {},
   "outputs": [],
   "source": [
    "fig, ax = evaluator.plot_confusion_matrices()\n",
    "fig.savefig(PLOTS_DIR + \"confusion_matrices.pdf\")"
   ]
  },
  {
   "cell_type": "code",
   "execution_count": null,
   "id": "10",
   "metadata": {},
   "outputs": [],
   "source": [
    "fig, ax = evaluator.plot_complementarity_matrix(figsize=(8.5, 8))\n",
    "fig.savefig(PLOTS_DIR + \"complementarity_matrix.pdf\")"
   ]
  },
  {
   "cell_type": "code",
   "execution_count": null,
   "id": "11",
   "metadata": {},
   "outputs": [],
   "source": []
  }
 ],
 "metadata": {
  "kernelspec": {
   "display_name": "venv",
   "language": "python",
   "name": "python3"
  },
  "language_info": {
   "codemirror_mode": {
    "name": "ipython",
    "version": 3
   },
   "file_extension": ".py",
   "mimetype": "text/x-python",
   "name": "python",
   "nbconvert_exporter": "python",
   "pygments_lexer": "ipython3",
   "version": "3.9.23"
  }
 },
 "nbformat": 4,
 "nbformat_minor": 5
}

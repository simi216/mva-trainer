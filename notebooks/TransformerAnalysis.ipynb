{
 "cells": [
  {
   "cell_type": "code",
   "execution_count": null,
   "id": "51f7c90a",
   "metadata": {},
   "outputs": [
    {
     "ename": "FileNotFoundError",
     "evalue": "[Errno 2] No such file or directory: '/data/dust/group/atlas/ttreco/full_training.root'",
     "output_type": "error",
     "traceback": [
      "\u001b[31m---------------------------------------------------------------------------\u001b[39m",
      "\u001b[31mFileNotFoundError\u001b[39m                         Traceback (most recent call last)",
      "\u001b[36mCell\u001b[39m\u001b[36m \u001b[39m\u001b[32mIn[3]\u001b[39m\u001b[32m, line 27\u001b[39m\n\u001b[32m     16\u001b[39m     os.makedirs(PLOTS_DIR)\n\u001b[32m     18\u001b[39m DataProcessor = DataPreprocessor(jet_features=[\u001b[33m\"\u001b[39m\u001b[33mordered_jet_pt\u001b[39m\u001b[33m\"\u001b[39m, \u001b[33m\"\u001b[39m\u001b[33mordered_jet_e\u001b[39m\u001b[33m\"\u001b[39m, \u001b[33m\"\u001b[39m\u001b[33mordered_jet_phi\u001b[39m\u001b[33m\"\u001b[39m, \u001b[33m\"\u001b[39m\u001b[33mordered_jet_eta\u001b[39m\u001b[33m\"\u001b[39m, \u001b[33m\"\u001b[39m\u001b[33mordered_jet_b_tag\u001b[39m\u001b[33m\"\u001b[39m,\u001b[33m\"\u001b[39m\u001b[33mm_l1j\u001b[39m\u001b[33m\"\u001b[39m, \u001b[33m\"\u001b[39m\u001b[33mm_l2j\u001b[39m\u001b[33m\"\u001b[39m, \u001b[33m\"\u001b[39m\u001b[33mdR_l1j\u001b[39m\u001b[33m\"\u001b[39m, \u001b[33m\"\u001b[39m\u001b[33mdR_l2j\u001b[39m\u001b[33m\"\u001b[39m], \n\u001b[32m     19\u001b[39m                                 lepton_features=[\u001b[33m\"\u001b[39m\u001b[33mlep_pt\u001b[39m\u001b[33m\"\u001b[39m,\u001b[33m\"\u001b[39m\u001b[33mlep_e\u001b[39m\u001b[33m\"\u001b[39m, \u001b[33m\"\u001b[39m\u001b[33mlep_eta\u001b[39m\u001b[33m\"\u001b[39m, \u001b[33m\"\u001b[39m\u001b[33mlep_phi\u001b[39m\u001b[33m\"\u001b[39m],\n\u001b[32m     20\u001b[39m                                 jet_truth_label=\u001b[33m\"\u001b[39m\u001b[33mordered_event_jet_truth_idx\u001b[39m\u001b[33m\"\u001b[39m, \n\u001b[32m   (...)\u001b[39m\u001b[32m     25\u001b[39m                                 non_training_features= [\u001b[33m\"\u001b[39m\u001b[33mtruth_ttbar_mass\u001b[39m\u001b[33m\"\u001b[39m, \u001b[33m\"\u001b[39m\u001b[33mtruth_ttbar_pt\u001b[39m\u001b[33m\"\u001b[39m, \u001b[33m\"\u001b[39m\u001b[33mN_jets\u001b[39m\u001b[33m\"\u001b[39m], \n\u001b[32m     26\u001b[39m                                 event_weight=\u001b[33m\"\u001b[39m\u001b[33mweight_mc_NOSYS\u001b[39m\u001b[33m\"\u001b[39m)\n\u001b[32m---> \u001b[39m\u001b[32m27\u001b[39m \u001b[43mDataProcessor\u001b[49m\u001b[43m.\u001b[49m\u001b[43mload_data\u001b[49m\u001b[43m(\u001b[49m\u001b[33;43m\"\u001b[39;49m\u001b[33;43m/data/dust/group/atlas/ttreco/full_training.root\u001b[39;49m\u001b[33;43m\"\u001b[39;49m\u001b[43m,\u001b[49m\u001b[43m \u001b[49m\u001b[33;43m\"\u001b[39;49m\u001b[33;43mreco\u001b[39;49m\u001b[33;43m\"\u001b[39;49m\u001b[43m,\u001b[49m\u001b[43m \u001b[49m\u001b[43mmax_events\u001b[49m\u001b[43m=\u001b[49m\u001b[32;43m100000\u001b[39;49m\u001b[43m)\u001b[49m\n\u001b[32m     28\u001b[39m DataProcessor.prepare_data()\n\u001b[32m     29\u001b[39m DataProcessor.normalise_data()\n",
      "\u001b[36mFile \u001b[39m\u001b[32m~/mva-trainer/notebooks/../core/DataLoader.py:440\u001b[39m, in \u001b[36mDataPreprocessor.load_data\u001b[39m\u001b[34m(self, file_path, tree_name, max_events, cut_neg_weights)\u001b[39m\n\u001b[32m    429\u001b[39m (\n\u001b[32m    430\u001b[39m     feature_clipping.update(\n\u001b[32m    431\u001b[39m         {\n\u001b[32m   (...)\u001b[39m\u001b[32m    437\u001b[39m     \u001b[38;5;28;01melse\u001b[39;00m \u001b[38;5;28;01mNone\u001b[39;00m\n\u001b[32m    438\u001b[39m )\n\u001b[32m    439\u001b[39m DataHandle = DataLoader(feature_clipping)\n\u001b[32m--> \u001b[39m\u001b[32m440\u001b[39m \u001b[43mDataHandle\u001b[49m\u001b[43m.\u001b[49m\u001b[43mload_data\u001b[49m\u001b[43m(\u001b[49m\u001b[43mfile_path\u001b[49m\u001b[43m,\u001b[49m\u001b[43m \u001b[49m\u001b[43mtree_name\u001b[49m\u001b[43m,\u001b[49m\u001b[43m \u001b[49m\u001b[43mmax_events\u001b[49m\u001b[43m=\u001b[49m\u001b[43mmax_events\u001b[49m\u001b[43m)\u001b[49m\n\u001b[32m    441\u001b[39m \u001b[38;5;28mself\u001b[39m.data = DataHandle.get_data()\n\u001b[32m    442\u001b[39m DataHandle = \u001b[38;5;28;01mNone\u001b[39;00m  \u001b[38;5;66;03m# Clear the DataLoader instance to save memory\u001b[39;00m\n",
      "\u001b[36mFile \u001b[39m\u001b[32m~/mva-trainer/notebooks/../core/DataLoader.py:89\u001b[39m, in \u001b[36mDataLoader.load_data\u001b[39m\u001b[34m(self, file_path, tree_name, max_events)\u001b[39m\n\u001b[32m     87\u001b[39m \u001b[38;5;28;01mif\u001b[39;00m \u001b[38;5;129;01mnot\u001b[39;00m \u001b[38;5;28misinstance\u001b[39m(file_path, \u001b[38;5;28mstr\u001b[39m):\n\u001b[32m     88\u001b[39m     \u001b[38;5;28;01mraise\u001b[39;00m \u001b[38;5;167;01mValueError\u001b[39;00m(\u001b[33m\"\u001b[39m\u001b[33mFile path should be a string.\u001b[39m\u001b[33m\"\u001b[39m)\n\u001b[32m---> \u001b[39m\u001b[32m89\u001b[39m \u001b[38;5;28;01mwith\u001b[39;00m \u001b[43muproot\u001b[49m\u001b[43m.\u001b[49m\u001b[43mopen\u001b[49m\u001b[43m(\u001b[49m\u001b[43mfile_path\u001b[49m\u001b[43m)\u001b[49m \u001b[38;5;28;01mas\u001b[39;00m file:\n\u001b[32m     90\u001b[39m     \u001b[38;5;28;01mif\u001b[39;00m tree_name \u001b[38;5;129;01mnot\u001b[39;00m \u001b[38;5;129;01min\u001b[39;00m file:\n\u001b[32m     91\u001b[39m         \u001b[38;5;28;01mraise\u001b[39;00m \u001b[38;5;167;01mValueError\u001b[39;00m(\u001b[33mf\u001b[39m\u001b[33m\"\u001b[39m\u001b[33mTree \u001b[39m\u001b[38;5;132;01m{\u001b[39;00mtree_name\u001b[38;5;132;01m}\u001b[39;00m\u001b[33m not found in file \u001b[39m\u001b[38;5;132;01m{\u001b[39;00mfile_path\u001b[38;5;132;01m}\u001b[39;00m\u001b[33m.\u001b[39m\u001b[33m\"\u001b[39m)\n",
      "\u001b[36mFile \u001b[39m\u001b[32m~/mva-trainer/venv/lib/python3.13/site-packages/uproot/reading.py:142\u001b[39m, in \u001b[36mopen\u001b[39m\u001b[34m(path, object_cache, array_cache, custom_classes, decompression_executor, interpretation_executor, **options)\u001b[39m\n\u001b[32m    133\u001b[39m \u001b[38;5;28;01mif\u001b[39;00m \u001b[38;5;129;01mnot\u001b[39;00m \u001b[38;5;28misinstance\u001b[39m(file_path, \u001b[38;5;28mstr\u001b[39m) \u001b[38;5;129;01mand\u001b[39;00m \u001b[38;5;129;01mnot\u001b[39;00m (\n\u001b[32m    134\u001b[39m     \u001b[38;5;28mhasattr\u001b[39m(file_path, \u001b[33m\"\u001b[39m\u001b[33mread\u001b[39m\u001b[33m\"\u001b[39m) \u001b[38;5;129;01mand\u001b[39;00m \u001b[38;5;28mhasattr\u001b[39m(file_path, \u001b[33m\"\u001b[39m\u001b[33mseek\u001b[39m\u001b[33m\"\u001b[39m)\n\u001b[32m    135\u001b[39m ):\n\u001b[32m    136\u001b[39m     \u001b[38;5;28;01mraise\u001b[39;00m \u001b[38;5;167;01mValueError\u001b[39;00m(\n\u001b[32m    137\u001b[39m         \u001b[33m\"\u001b[39m\u001b[33m'\u001b[39m\u001b[33mpath\u001b[39m\u001b[33m'\u001b[39m\u001b[33m must be a string, pathlib.Path, an object with \u001b[39m\u001b[33m'\u001b[39m\u001b[33mread\u001b[39m\u001b[33m'\u001b[39m\u001b[33m and \u001b[39m\u001b[33m\"\u001b[39m\n\u001b[32m    138\u001b[39m         \u001b[33m\"\u001b[39m\u001b[33m'\u001b[39m\u001b[33mseek\u001b[39m\u001b[33m'\u001b[39m\u001b[33m methods, or a length-1 dict of \u001b[39m\u001b[33m{\u001b[39m\u001b[33mfile_path: object_path}, \u001b[39m\u001b[33m\"\u001b[39m\n\u001b[32m    139\u001b[39m         \u001b[33mf\u001b[39m\u001b[33m\"\u001b[39m\u001b[33mnot \u001b[39m\u001b[38;5;132;01m{\u001b[39;00mpath\u001b[38;5;132;01m!r}\u001b[39;00m\u001b[33m\"\u001b[39m\n\u001b[32m    140\u001b[39m     )\n\u001b[32m--> \u001b[39m\u001b[32m142\u001b[39m file = \u001b[43mReadOnlyFile\u001b[49m\u001b[43m(\u001b[49m\n\u001b[32m    143\u001b[39m \u001b[43m    \u001b[49m\u001b[43mfile_path\u001b[49m\u001b[43m,\u001b[49m\n\u001b[32m    144\u001b[39m \u001b[43m    \u001b[49m\u001b[43mobject_cache\u001b[49m\u001b[43m=\u001b[49m\u001b[43mobject_cache\u001b[49m\u001b[43m,\u001b[49m\n\u001b[32m    145\u001b[39m \u001b[43m    \u001b[49m\u001b[43marray_cache\u001b[49m\u001b[43m=\u001b[49m\u001b[43marray_cache\u001b[49m\u001b[43m,\u001b[49m\n\u001b[32m    146\u001b[39m \u001b[43m    \u001b[49m\u001b[43mcustom_classes\u001b[49m\u001b[43m=\u001b[49m\u001b[43mcustom_classes\u001b[49m\u001b[43m,\u001b[49m\n\u001b[32m    147\u001b[39m \u001b[43m    \u001b[49m\u001b[43mdecompression_executor\u001b[49m\u001b[43m=\u001b[49m\u001b[43mdecompression_executor\u001b[49m\u001b[43m,\u001b[49m\n\u001b[32m    148\u001b[39m \u001b[43m    \u001b[49m\u001b[43minterpretation_executor\u001b[49m\u001b[43m=\u001b[49m\u001b[43minterpretation_executor\u001b[49m\u001b[43m,\u001b[49m\n\u001b[32m    149\u001b[39m \u001b[43m    \u001b[49m\u001b[43m*\u001b[49m\u001b[43m*\u001b[49m\u001b[43moptions\u001b[49m\u001b[43m,\u001b[49m\n\u001b[32m    150\u001b[39m \u001b[43m\u001b[49m\u001b[43m)\u001b[49m\n\u001b[32m    152\u001b[39m \u001b[38;5;28;01mif\u001b[39;00m object_path \u001b[38;5;129;01mis\u001b[39;00m \u001b[38;5;28;01mNone\u001b[39;00m:\n\u001b[32m    153\u001b[39m     \u001b[38;5;28;01mreturn\u001b[39;00m file.root_directory\n",
      "\u001b[36mFile \u001b[39m\u001b[32m~/mva-trainer/venv/lib/python3.13/site-packages/uproot/reading.py:573\u001b[39m, in \u001b[36mReadOnlyFile.__init__\u001b[39m\u001b[34m(self, file_path, object_cache, array_cache, custom_classes, decompression_executor, interpretation_executor, **options)\u001b[39m\n\u001b[32m    565\u001b[39m \u001b[38;5;28;01mif\u001b[39;00m \u001b[38;5;28mself\u001b[39m._options[\u001b[33m\"\u001b[39m\u001b[33mbegin_chunk_size\u001b[39m\u001b[33m\"\u001b[39m] < _file_header_fields_big.size:\n\u001b[32m    566\u001b[39m     \u001b[38;5;28;01mraise\u001b[39;00m \u001b[38;5;167;01mValueError\u001b[39;00m(\n\u001b[32m    567\u001b[39m         \u001b[33m\"\u001b[39m\u001b[33mbegin_chunk_size=\u001b[39m\u001b[38;5;132;01m{}\u001b[39;00m\u001b[33m is not enough to read the TFile header (\u001b[39m\u001b[38;5;132;01m{}\u001b[39;00m\u001b[33m)\u001b[39m\u001b[33m\"\u001b[39m.format(\n\u001b[32m    568\u001b[39m             \u001b[38;5;28mself\u001b[39m._options[\u001b[33m\"\u001b[39m\u001b[33mbegin_chunk_size\u001b[39m\u001b[33m\"\u001b[39m],\n\u001b[32m    569\u001b[39m             _file_header_fields_big.size,\n\u001b[32m    570\u001b[39m         )\n\u001b[32m    571\u001b[39m     )\n\u001b[32m--> \u001b[39m\u001b[32m573\u001b[39m \u001b[38;5;28mself\u001b[39m._begin_chunk = \u001b[38;5;28;43mself\u001b[39;49m\u001b[43m.\u001b[49m\u001b[43m_source\u001b[49m\u001b[43m.\u001b[49m\u001b[43mchunk\u001b[49m\u001b[43m(\u001b[49m\n\u001b[32m    574\u001b[39m \u001b[43m    \u001b[49m\u001b[32;43m0\u001b[39;49m\u001b[43m,\u001b[49m\u001b[43m \u001b[49m\u001b[38;5;28;43mself\u001b[39;49m\u001b[43m.\u001b[49m\u001b[43m_options\u001b[49m\u001b[43m[\u001b[49m\u001b[33;43m\"\u001b[39;49m\u001b[33;43mbegin_chunk_size\u001b[39;49m\u001b[33;43m\"\u001b[39;49m\u001b[43m]\u001b[49m\n\u001b[32m    575\u001b[39m \u001b[43m\u001b[49m\u001b[43m)\u001b[49m.detach_memmap()\n\u001b[32m    577\u001b[39m \u001b[38;5;28mself\u001b[39m.hook_before_interpret()\n\u001b[32m    579\u001b[39m (\n\u001b[32m    580\u001b[39m     magic,\n\u001b[32m    581\u001b[39m     \u001b[38;5;28mself\u001b[39m._fVersion,\n\u001b[32m   (...)\u001b[39m\u001b[32m    595\u001b[39m     \u001b[38;5;28mself\u001b[39m._begin_chunk, _file_header_fields_small, {}\n\u001b[32m    596\u001b[39m )\n",
      "\u001b[36mFile \u001b[39m\u001b[32m~/mva-trainer/venv/lib/python3.13/site-packages/uproot/source/fsspec.py:95\u001b[39m, in \u001b[36mFSSpecSource.chunk\u001b[39m\u001b[34m(self, start, stop)\u001b[39m\n\u001b[32m     93\u001b[39m \u001b[38;5;28mself\u001b[39m._num_requested_chunks += \u001b[32m1\u001b[39m\n\u001b[32m     94\u001b[39m \u001b[38;5;28mself\u001b[39m._num_requested_bytes += stop - start\n\u001b[32m---> \u001b[39m\u001b[32m95\u001b[39m data = \u001b[38;5;28;43mself\u001b[39;49m\u001b[43m.\u001b[49m\u001b[43m_fs\u001b[49m\u001b[43m.\u001b[49m\u001b[43mcat_file\u001b[49m\u001b[43m(\u001b[49m\u001b[38;5;28;43mself\u001b[39;49m\u001b[43m.\u001b[49m\u001b[43m_file_path\u001b[49m\u001b[43m,\u001b[49m\u001b[43m \u001b[49m\u001b[43mstart\u001b[49m\u001b[43m=\u001b[49m\u001b[43mstart\u001b[49m\u001b[43m,\u001b[49m\u001b[43m \u001b[49m\u001b[43mend\u001b[49m\u001b[43m=\u001b[49m\u001b[43mstop\u001b[49m\u001b[43m)\u001b[49m\n\u001b[32m     96\u001b[39m future = uproot.source.futures.TrivialFuture(data)\n\u001b[32m     97\u001b[39m \u001b[38;5;28;01mreturn\u001b[39;00m uproot.source.chunk.Chunk(\u001b[38;5;28mself\u001b[39m, start, stop, future)\n",
      "\u001b[36mFile \u001b[39m\u001b[32m~/mva-trainer/venv/lib/python3.13/site-packages/fsspec/spec.py:797\u001b[39m, in \u001b[36mAbstractFileSystem.cat_file\u001b[39m\u001b[34m(self, path, start, end, **kwargs)\u001b[39m\n\u001b[32m    785\u001b[39m \u001b[38;5;250m\u001b[39m\u001b[33;03m\"\"\"Get the content of a file\u001b[39;00m\n\u001b[32m    786\u001b[39m \n\u001b[32m    787\u001b[39m \u001b[33;03mParameters\u001b[39;00m\n\u001b[32m   (...)\u001b[39m\u001b[32m    794\u001b[39m \u001b[33;03mkwargs: passed to ``open()``.\u001b[39;00m\n\u001b[32m    795\u001b[39m \u001b[33;03m\"\"\"\u001b[39;00m\n\u001b[32m    796\u001b[39m \u001b[38;5;66;03m# explicitly set buffering off?\u001b[39;00m\n\u001b[32m--> \u001b[39m\u001b[32m797\u001b[39m \u001b[38;5;28;01mwith\u001b[39;00m \u001b[38;5;28;43mself\u001b[39;49m\u001b[43m.\u001b[49m\u001b[43mopen\u001b[49m\u001b[43m(\u001b[49m\u001b[43mpath\u001b[49m\u001b[43m,\u001b[49m\u001b[43m \u001b[49m\u001b[33;43m\"\u001b[39;49m\u001b[33;43mrb\u001b[39;49m\u001b[33;43m\"\u001b[39;49m\u001b[43m,\u001b[49m\u001b[43m \u001b[49m\u001b[43m*\u001b[49m\u001b[43m*\u001b[49m\u001b[43mkwargs\u001b[49m\u001b[43m)\u001b[49m \u001b[38;5;28;01mas\u001b[39;00m f:\n\u001b[32m    798\u001b[39m     \u001b[38;5;28;01mif\u001b[39;00m start \u001b[38;5;129;01mis\u001b[39;00m \u001b[38;5;129;01mnot\u001b[39;00m \u001b[38;5;28;01mNone\u001b[39;00m:\n\u001b[32m    799\u001b[39m         \u001b[38;5;28;01mif\u001b[39;00m start >= \u001b[32m0\u001b[39m:\n",
      "\u001b[36mFile \u001b[39m\u001b[32m~/mva-trainer/venv/lib/python3.13/site-packages/fsspec/spec.py:1338\u001b[39m, in \u001b[36mAbstractFileSystem.open\u001b[39m\u001b[34m(self, path, mode, block_size, cache_options, compression, **kwargs)\u001b[39m\n\u001b[32m   1336\u001b[39m \u001b[38;5;28;01melse\u001b[39;00m:\n\u001b[32m   1337\u001b[39m     ac = kwargs.pop(\u001b[33m\"\u001b[39m\u001b[33mautocommit\u001b[39m\u001b[33m\"\u001b[39m, \u001b[38;5;129;01mnot\u001b[39;00m \u001b[38;5;28mself\u001b[39m._intrans)\n\u001b[32m-> \u001b[39m\u001b[32m1338\u001b[39m     f = \u001b[38;5;28;43mself\u001b[39;49m\u001b[43m.\u001b[49m\u001b[43m_open\u001b[49m\u001b[43m(\u001b[49m\n\u001b[32m   1339\u001b[39m \u001b[43m        \u001b[49m\u001b[43mpath\u001b[49m\u001b[43m,\u001b[49m\n\u001b[32m   1340\u001b[39m \u001b[43m        \u001b[49m\u001b[43mmode\u001b[49m\u001b[43m=\u001b[49m\u001b[43mmode\u001b[49m\u001b[43m,\u001b[49m\n\u001b[32m   1341\u001b[39m \u001b[43m        \u001b[49m\u001b[43mblock_size\u001b[49m\u001b[43m=\u001b[49m\u001b[43mblock_size\u001b[49m\u001b[43m,\u001b[49m\n\u001b[32m   1342\u001b[39m \u001b[43m        \u001b[49m\u001b[43mautocommit\u001b[49m\u001b[43m=\u001b[49m\u001b[43mac\u001b[49m\u001b[43m,\u001b[49m\n\u001b[32m   1343\u001b[39m \u001b[43m        \u001b[49m\u001b[43mcache_options\u001b[49m\u001b[43m=\u001b[49m\u001b[43mcache_options\u001b[49m\u001b[43m,\u001b[49m\n\u001b[32m   1344\u001b[39m \u001b[43m        \u001b[49m\u001b[43m*\u001b[49m\u001b[43m*\u001b[49m\u001b[43mkwargs\u001b[49m\u001b[43m,\u001b[49m\n\u001b[32m   1345\u001b[39m \u001b[43m    \u001b[49m\u001b[43m)\u001b[49m\n\u001b[32m   1346\u001b[39m     \u001b[38;5;28;01mif\u001b[39;00m compression \u001b[38;5;129;01mis\u001b[39;00m \u001b[38;5;129;01mnot\u001b[39;00m \u001b[38;5;28;01mNone\u001b[39;00m:\n\u001b[32m   1347\u001b[39m         \u001b[38;5;28;01mfrom\u001b[39;00m\u001b[38;5;250m \u001b[39m\u001b[34;01mfsspec\u001b[39;00m\u001b[34;01m.\u001b[39;00m\u001b[34;01mcompression\u001b[39;00m\u001b[38;5;250m \u001b[39m\u001b[38;5;28;01mimport\u001b[39;00m compr\n",
      "\u001b[36mFile \u001b[39m\u001b[32m~/mva-trainer/venv/lib/python3.13/site-packages/fsspec/implementations/local.py:210\u001b[39m, in \u001b[36mLocalFileSystem._open\u001b[39m\u001b[34m(self, path, mode, block_size, **kwargs)\u001b[39m\n\u001b[32m    208\u001b[39m \u001b[38;5;28;01mif\u001b[39;00m \u001b[38;5;28mself\u001b[39m.auto_mkdir \u001b[38;5;129;01mand\u001b[39;00m \u001b[33m\"\u001b[39m\u001b[33mw\u001b[39m\u001b[33m\"\u001b[39m \u001b[38;5;129;01min\u001b[39;00m mode:\n\u001b[32m    209\u001b[39m     \u001b[38;5;28mself\u001b[39m.makedirs(\u001b[38;5;28mself\u001b[39m._parent(path), exist_ok=\u001b[38;5;28;01mTrue\u001b[39;00m)\n\u001b[32m--> \u001b[39m\u001b[32m210\u001b[39m \u001b[38;5;28;01mreturn\u001b[39;00m \u001b[43mLocalFileOpener\u001b[49m\u001b[43m(\u001b[49m\u001b[43mpath\u001b[49m\u001b[43m,\u001b[49m\u001b[43m \u001b[49m\u001b[43mmode\u001b[49m\u001b[43m,\u001b[49m\u001b[43m \u001b[49m\u001b[43mfs\u001b[49m\u001b[43m=\u001b[49m\u001b[38;5;28;43mself\u001b[39;49m\u001b[43m,\u001b[49m\u001b[43m \u001b[49m\u001b[43m*\u001b[49m\u001b[43m*\u001b[49m\u001b[43mkwargs\u001b[49m\u001b[43m)\u001b[49m\n",
      "\u001b[36mFile \u001b[39m\u001b[32m~/mva-trainer/venv/lib/python3.13/site-packages/fsspec/implementations/local.py:387\u001b[39m, in \u001b[36mLocalFileOpener.__init__\u001b[39m\u001b[34m(self, path, mode, autocommit, fs, compression, **kwargs)\u001b[39m\n\u001b[32m    385\u001b[39m \u001b[38;5;28mself\u001b[39m.compression = get_compression(path, compression)\n\u001b[32m    386\u001b[39m \u001b[38;5;28mself\u001b[39m.blocksize = io.DEFAULT_BUFFER_SIZE\n\u001b[32m--> \u001b[39m\u001b[32m387\u001b[39m \u001b[38;5;28;43mself\u001b[39;49m\u001b[43m.\u001b[49m\u001b[43m_open\u001b[49m\u001b[43m(\u001b[49m\u001b[43m)\u001b[49m\n",
      "\u001b[36mFile \u001b[39m\u001b[32m~/mva-trainer/venv/lib/python3.13/site-packages/fsspec/implementations/local.py:392\u001b[39m, in \u001b[36mLocalFileOpener._open\u001b[39m\u001b[34m(self)\u001b[39m\n\u001b[32m    390\u001b[39m \u001b[38;5;28;01mif\u001b[39;00m \u001b[38;5;28mself\u001b[39m.f \u001b[38;5;129;01mis\u001b[39;00m \u001b[38;5;28;01mNone\u001b[39;00m \u001b[38;5;129;01mor\u001b[39;00m \u001b[38;5;28mself\u001b[39m.f.closed:\n\u001b[32m    391\u001b[39m     \u001b[38;5;28;01mif\u001b[39;00m \u001b[38;5;28mself\u001b[39m.autocommit \u001b[38;5;129;01mor\u001b[39;00m \u001b[33m\"\u001b[39m\u001b[33mw\u001b[39m\u001b[33m\"\u001b[39m \u001b[38;5;129;01mnot\u001b[39;00m \u001b[38;5;129;01min\u001b[39;00m \u001b[38;5;28mself\u001b[39m.mode:\n\u001b[32m--> \u001b[39m\u001b[32m392\u001b[39m         \u001b[38;5;28mself\u001b[39m.f = \u001b[38;5;28;43mopen\u001b[39;49m\u001b[43m(\u001b[49m\u001b[38;5;28;43mself\u001b[39;49m\u001b[43m.\u001b[49m\u001b[43mpath\u001b[49m\u001b[43m,\u001b[49m\u001b[43m \u001b[49m\u001b[43mmode\u001b[49m\u001b[43m=\u001b[49m\u001b[38;5;28;43mself\u001b[39;49m\u001b[43m.\u001b[49m\u001b[43mmode\u001b[49m\u001b[43m)\u001b[49m\n\u001b[32m    393\u001b[39m         \u001b[38;5;28;01mif\u001b[39;00m \u001b[38;5;28mself\u001b[39m.compression:\n\u001b[32m    394\u001b[39m             compress = compr[\u001b[38;5;28mself\u001b[39m.compression]\n",
      "\u001b[31mFileNotFoundError\u001b[39m: [Errno 2] No such file or directory: '/data/dust/group/atlas/ttreco/full_training.root'"
     ]
    }
   ],
   "source": [
    "import sys\n",
    "sys.path.append(\"..\") # Ensure the parent directory is in the path\n",
    "\n",
    "import core.models.AssignmentBaseModel as BaseModel\n",
    "import core\n",
    "from core.DataLoader import DataPreprocessor\n",
    "import core.AssignmentKFold as KFold\n",
    "import numpy as np\n",
    "from importlib import reload\n",
    "import keras\n",
    "import tensorflow as tf\n",
    "import matplotlib.pyplot as plt\n",
    "MAX_JETS = 4\n",
    "PLOTS_DIR = f\"plots/\"\n",
    "import os\n",
    "if not os.path.exists(PLOTS_DIR):\n",
    "    os.makedirs(PLOTS_DIR)\n",
    "\n",
    "DataProcessor = DataPreprocessor(jet_features=[\"ordered_jet_pt\", \"ordered_jet_e\", \"ordered_jet_phi\", \"ordered_jet_eta\", \"ordered_jet_b_tag\",\"m_l1j\", \"m_l2j\", \"dR_l1j\", \"dR_l2j\"], \n",
    "                                lepton_features=[\"lep_pt\",\"lep_e\", \"lep_eta\", \"lep_phi\"],\n",
    "                                jet_truth_label=\"ordered_event_jet_truth_idx\", \n",
    "                                lepton_truth_label=\"event_lepton_truth_idx\", \n",
    "                                global_features = [\"met_met_NOSYS\",\"met_phi_NOSYS\"], \n",
    "                                max_leptons=2, \n",
    "                                max_jets = MAX_JETS, \n",
    "                                non_training_features= [\"truth_ttbar_mass\", \"truth_ttbar_pt\", \"N_jets\"], \n",
    "                                event_weight=\"weight_mc_NOSYS\")\n",
    "DataProcessor.load_data(\"/data/dust/group/atlas/ttreco/full_training.root\", \"reco\", max_events=100000)\n",
    "DataProcessor.prepare_data()\n",
    "DataProcessor.normalise_data()\n",
    "DataProcessor.split_data(0.2)"
   ]
  },
  {
   "cell_type": "code",
   "execution_count": 1,
   "id": "0aeabd5e",
   "metadata": {},
   "outputs": [
    {
     "ename": "ModuleNotFoundError",
     "evalue": "No module named 'core'",
     "output_type": "error",
     "traceback": [
      "\u001b[31m---------------------------------------------------------------------------\u001b[39m",
      "\u001b[31mModuleNotFoundError\u001b[39m                       Traceback (most recent call last)",
      "\u001b[36mCell\u001b[39m\u001b[36m \u001b[39m\u001b[32mIn[1]\u001b[39m\u001b[32m, line 1\u001b[39m\n\u001b[32m----> \u001b[39m\u001b[32m1\u001b[39m \u001b[38;5;28;01mimport\u001b[39;00m\u001b[38;5;250m \u001b[39m\u001b[34;01mcore\u001b[39;00m\u001b[34;01m.\u001b[39;00m\u001b[34;01mcomponents\u001b[39;00m\u001b[38;5;250m \u001b[39m\u001b[38;5;28;01mas\u001b[39;00m\u001b[38;5;250m \u001b[39m\u001b[34;01mcomponents\u001b[39;00m\n\u001b[32m      2\u001b[39m \u001b[38;5;28;01mclass\u001b[39;00m\u001b[38;5;250m \u001b[39m\u001b[34;01mTransformerJetMatcher\u001b[39;00m(BaseModel.AssignmentBaseModel):\n\u001b[32m      3\u001b[39m \u001b[38;5;250m    \u001b[39m\u001b[33;03m\"\"\"\u001b[39;00m\n\u001b[32m      4\u001b[39m \u001b[33;03m    Transformer-based model for jet-lepton assignment.\u001b[39;00m\n\u001b[32m      5\u001b[39m \n\u001b[32m      6\u001b[39m \u001b[33;03m    Inherits from:\u001b[39;00m\n\u001b[32m      7\u001b[39m \u001b[33;03m        BaseModel.AssignmentBaseModel: Base class for assignment models.\u001b[39;00m\n\u001b[32m      8\u001b[39m \u001b[33;03m    \"\"\"\u001b[39;00m\n",
      "\u001b[31mModuleNotFoundError\u001b[39m: No module named 'core'"
     ]
    }
   ],
   "source": [
    "import core.components as components\n",
    "class TransformerJetMatcher(BaseModel.AssignmentBaseModel):\n",
    "    \"\"\"\n",
    "    Transformer-based model for jet-lepton assignment.\n",
    "\n",
    "    Inherits from:\n",
    "        BaseModel.AssignmentBaseModel: Base class for assignment models.\n",
    "    \"\"\"\n",
    "    def __init__(self, data_processor):\n",
    "        \"\"\"\n",
    "        Initializes the TransformerJetMatcher with a data processor.\n",
    "\n",
    "        Args:\n",
    "            data_processor (DataPreprocessor): An instance of DataPreprocessor for handling data loading\n",
    "                                               and preprocessing.\n",
    "        \"\"\"\n",
    "        super().__init__(data_processor)\n",
    "        self.model = None\n",
    "\n",
    "    def build_model(self, hidden_size = 64, n_heads = 8, stack_size = 3, ff_dim = None, dropout = 0.1):\n",
    "        \"\"\"\n",
    "        Builds the Transformer-based model architecture.\n",
    "\n",
    "        Args:\n",
    "            hidden_size (int): Dimensionality of the embedding space.\n",
    "            n_heads (int): Number of attention heads in the multi-head attention layer.\n",
    "            stack_size (int): Number of Transformer blocks to stack.\n",
    "            ff_dim (int): Dimensionality of the feed-forward network. If None, defaults to 4 * hidden_size.\n",
    "            dropout (float): Dropout rate for regularization.\n",
    "        \"\"\"\n",
    "\n",
    "        jet_input = keras.Input(shape=(self.max_jets, len(self.data_processor.jet_features)), name=\"jet_input\")\n",
    "        lepton_input = keras.Input(shape=(self.max_leptons, len(self.data_processor.lepton_features)), name=\"lepton_input\")\n",
    "        global_input = keras.Input(shape=(len(self.n_global),), name=\"global_input\")\n",
    "\n",
    "        # Masking layers to handle variable-length inputs\n",
    "        jet_mask = components.GenerateMask(padding_value=self.padding_value)(jet_input)\n",
    "\n",
    "        lepton_repeated = keras.layers.RepeatVector(self.max_jets)(lepton_input)\n",
    "        global_repeated = keras.layers.RepeatVector(self.max_jets)(global_input)\n",
    "\n",
    "        x = keras.layers.Concatenate(axis=-1)([jet_input, lepton_repeated, global_repeated])\n",
    "\n",
    "        input_embedding = components.MLP([hidden_size],num_layers=3, activation=\"relu\", dropout_rate=dropout)(x)\n",
    "        x = keras.layers.Dropout(dropout)(input_embedding)\n",
    "        for _ in range(stack_size):\n",
    "            x = components.SelfAttentionBlock(hidden_size, n_heads, ff_dim or 4*hidden_size, dropout)(x, jet_mask)\n",
    "        x = keras.layers.Dropout(dropout)(x)\n",
    "        x = components.MLP(2, num_layers=4, dropout_rate=dropout)(x)\n",
    "        output = keras.layers.Softmax(axis=1, name=\"assignment_output\")(x, mask=jet_mask)\n",
    "        self.model = keras.Model(inputs=[jet_input, lepton_input, global_input], outputs=output)\n",
    "\n"
   ]
  },
  {
   "cell_type": "code",
   "execution_count": null,
   "id": "54d8dce1",
   "metadata": {},
   "outputs": [],
   "source": [
    "\n",
    "reload(KFold)\n",
    "\n",
    "TransformerMatcher = TransformerJetMatcher(DataProcessor); TransformerMatcher.load_data(*DataProcessor.get_data())\n",
    "TransformerMatcher.build_model(\n",
    "\n",
    ")\n",
    "TransformerMatcher.compile_model(\n",
    "    lambda_excl=0, optimizer=keras.optimizers.Adam(learning_rate=0.001)\n",
    ")\n",
    "TransformerMatcher.model.summary()\n",
    "TransformerMatcher.load_data(*DataProcessor.get_data())"
   ]
  },
  {
   "cell_type": "code",
   "execution_count": null,
   "id": "64adc6ae",
   "metadata": {},
   "outputs": [],
   "source": [
    "TransformerMatcher.train_model(epochs=100,\n",
    "                                batch_size=128,\n",
    "                                verbose=1,\n",
    "                                weight = \"sample\",\n",
    "                                callbacks = keras.callbacks.EarlyStopping(monitor=\"val_accuracy\", patience=50, restore_best_weights=True, mode =\"max\"))\n"
   ]
  },
  {
   "cell_type": "code",
   "execution_count": null,
   "id": "21277808",
   "metadata": {},
   "outputs": [],
   "source": [
    "TransformerMatcher.plot_history()"
   ]
  },
  {
   "cell_type": "code",
   "execution_count": null,
   "id": "ffcb2822",
   "metadata": {},
   "outputs": [],
   "source": [
    "TransformerMatcher.plot_confusion_matrix()"
   ]
  },
  {
   "cell_type": "code",
   "execution_count": null,
   "id": "cf65fb95",
   "metadata": {},
   "outputs": [],
   "source": [
    "TransformerMatcher.plot_permutation_importance(shuffle_number=5)"
   ]
  },
  {
   "cell_type": "code",
   "execution_count": null,
   "id": "71d524bd",
   "metadata": {},
   "outputs": [],
   "source": []
  }
 ],
 "metadata": {
  "kernelspec": {
   "display_name": "venv",
   "language": "python",
   "name": "python3"
  },
  "language_info": {
   "codemirror_mode": {
    "name": "ipython",
    "version": 3
   },
   "file_extension": ".py",
   "mimetype": "text/x-python",
   "name": "python",
   "nbconvert_exporter": "python",
   "pygments_lexer": "ipython3",
   "version": "3.9.21"
  }
 },
 "nbformat": 4,
 "nbformat_minor": 5
}

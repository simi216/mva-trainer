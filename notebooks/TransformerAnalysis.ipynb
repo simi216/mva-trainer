{
 "cells": [
  {
   "cell_type": "code",
   "execution_count": 2,
   "id": "51f7c90a",
   "metadata": {},
   "outputs": [
    {
     "name": "stderr",
     "output_type": "stream",
     "text": [
      "2025-07-11 14:36:37.762760: I external/local_xla/xla/tsl/cuda/cudart_stub.cc:32] Could not find cuda drivers on your machine, GPU will not be used.\n",
      "2025-07-11 14:36:37.766549: I external/local_xla/xla/tsl/cuda/cudart_stub.cc:32] Could not find cuda drivers on your machine, GPU will not be used.\n",
      "2025-07-11 14:36:37.777296: E external/local_xla/xla/stream_executor/cuda/cuda_fft.cc:467] Unable to register cuFFT factory: Attempting to register factory for plugin cuFFT when one has already been registered\n",
      "WARNING: All log messages before absl::InitializeLog() is called are written to STDERR\n",
      "E0000 00:00:1752237397.795084  282964 cuda_dnn.cc:8579] Unable to register cuDNN factory: Attempting to register factory for plugin cuDNN when one has already been registered\n",
      "E0000 00:00:1752237397.800509  282964 cuda_blas.cc:1407] Unable to register cuBLAS factory: Attempting to register factory for plugin cuBLAS when one has already been registered\n",
      "W0000 00:00:1752237397.814564  282964 computation_placer.cc:177] computation placer already registered. Please check linkage and avoid linking the same target more than once.\n",
      "W0000 00:00:1752237397.814581  282964 computation_placer.cc:177] computation placer already registered. Please check linkage and avoid linking the same target more than once.\n",
      "W0000 00:00:1752237397.814583  282964 computation_placer.cc:177] computation placer already registered. Please check linkage and avoid linking the same target more than once.\n",
      "W0000 00:00:1752237397.814585  282964 computation_placer.cc:177] computation placer already registered. Please check linkage and avoid linking the same target more than once.\n",
      "2025-07-11 14:36:37.820511: I tensorflow/core/platform/cpu_feature_guard.cc:210] This TensorFlow binary is optimized to use available CPU instructions in performance-critical operations.\n",
      "To enable the following instructions: AVX2 FMA, in other operations, rebuild TensorFlow with the appropriate compiler flags.\n"
     ]
    }
   ],
   "source": [
    "import sys\n",
    "sys.path.append(\"..\") # Ensure the parent directory is in the path\n",
    "\n",
    "import core.AssignmentTransformer as TransformerAnalysis\n",
    "from core.DataLoader import DataPreprocessor\n",
    "import core.AssignmentKFold as KFold\n",
    "import numpy as np\n",
    "from importlib import reload\n",
    "import keras\n",
    "import tensorflow as tf\n",
    "import matplotlib.pyplot as plt\n",
    "MAX_JETS = 4\n",
    "PLOTS_DIR = f\"plots/\"\n",
    "import os\n",
    "if not os.path.exists(PLOTS_DIR):\n",
    "    os.makedirs(PLOTS_DIR)\n",
    "\n",
    "DataProcessor = DataPreprocessor(jet_features=[\"ordered_jet_pt\", \"ordered_jet_e\", \"ordered_jet_phi\", \"ordered_jet_eta\", \"ordered_jet_b_tag\",\"m_l1j\", \"m_l2j\", \"dR_l1j\", \"dR_l2j\"], \n",
    "                                lepton_features=[\"lep_pt\",\"lep_e\", \"lep_eta\", \"lep_phi\"],\n",
    "                                jet_truth_label=\"ordered_event_jet_truth_idx\", \n",
    "                                lepton_truth_label=\"event_lepton_truth_idx\", \n",
    "                                global_features = [\"met_met_NOSYS\",\"met_phi_NOSYS\"], \n",
    "                                max_leptons=2, \n",
    "                                max_jets = MAX_JETS, \n",
    "                                non_training_features= [\"truth_ttbar_mass\", \"truth_ttbar_pt\", \"N_jets\"], \n",
    "                                event_weight=\"weight_mc_NOSYS\")\n",
    "DataProcessor.load_data(\"/data/dust/group/atlas/ttreco/full_training.root\", \"reco\", max_events=100000)\n",
    "DataProcessor.prepare_data()\n",
    "DataProcessor.normalise_data()\n",
    "DataProcessor.split_data(0.2)"
   ]
  },
  {
   "cell_type": "code",
   "execution_count": null,
   "id": "54d8dce1",
   "metadata": {},
   "outputs": [],
   "source": [
    "reload(TransformerAnalysis)\n",
    "reload(KFold)\n",
    "\n",
    "TransformerMatcher = TransformerAnalysis.TransformerJetMatcher(DataProcessor); TransformerMatcher.load_data(*DataProcessor.get_data())\n",
    "TransformerMatcher.build_model(\n",
    "    hidden_size=16,\n",
    "    lep_dim=4,\n",
    "    global_dim=2,\n",
    "    jet_embedding_layers=2,\n",
    "    lepton_embedding_layers=2,\n",
    "    global_embedding_layers=2,\n",
    "    attention_blocks=2,\n",
    "    ff_layers=3,\n",
    "    n_heads=6,\n",
    "    dropout_rate=0,\n",
    "    regularization_lambda=0.001,\n",
    ")\n",
    "TransformerMatcher.compile_model(\n",
    "    lambda_excl=0, optimizer=keras.optimizers.Adam(learning_rate=0.001)\n",
    ")\n",
    "TransformerMatcher.model.summary()\n",
    "TransformerMatcher.load_data(*DataProcessor.get_data())"
   ]
  },
  {
   "cell_type": "code",
   "execution_count": null,
   "id": "64adc6ae",
   "metadata": {},
   "outputs": [],
   "source": [
    "TransformerMatcher.train_model(epochs=100,\n",
    "                                batch_size=128,\n",
    "                                verbose=1,\n",
    "                                weight = \"sample\",\n",
    "                                callbacks = keras.callbacks.EarlyStopping(monitor=\"val_accuracy\", patience=50, restore_best_weights=True, mode =\"max\"))\n"
   ]
  },
  {
   "cell_type": "code",
   "execution_count": null,
   "id": "21277808",
   "metadata": {},
   "outputs": [],
   "source": [
    "TransformerMatcher.plot_history()"
   ]
  },
  {
   "cell_type": "code",
   "execution_count": null,
   "id": "ffcb2822",
   "metadata": {},
   "outputs": [],
   "source": [
    "TransformerMatcher.plot_confusion_matrix()"
   ]
  },
  {
   "cell_type": "code",
   "execution_count": null,
   "id": "cf65fb95",
   "metadata": {},
   "outputs": [],
   "source": [
    "TransformerMatcher.plot_permutation_importance(shuffle_number=5)"
   ]
  },
  {
   "cell_type": "code",
   "execution_count": null,
   "id": "71d524bd",
   "metadata": {},
   "outputs": [],
   "source": []
  }
 ],
 "metadata": {
  "kernelspec": {
   "display_name": "env",
   "language": "python",
   "name": "python3"
  },
  "language_info": {
   "codemirror_mode": {
    "name": "ipython",
    "version": 3
   },
   "file_extension": ".py",
   "mimetype": "text/x-python",
   "name": "python",
   "nbconvert_exporter": "python",
   "pygments_lexer": "ipython3",
   "version": "3.9.21"
  }
 },
 "nbformat": 4,
 "nbformat_minor": 5
}

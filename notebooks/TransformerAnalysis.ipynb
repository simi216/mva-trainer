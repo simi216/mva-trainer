{
 "cells": [
  {
   "cell_type": "code",
   "execution_count": null,
   "id": "51f7c90a",
   "metadata": {},
   "outputs": [],
   "source": [
    "import sys\n",
    "sys.path.append(\"..\") # Ensure the parent directory is in the path\n",
    "\n",
    "import core.AssignmentTransformer as TransformerAnalysis\n",
    "from core.DataLoader import DataPreprocessor\n",
    "import core.AssignmentKFold as KFold\n",
    "import numpy as np\n",
    "from importlib import reload\n",
    "import keras\n",
    "import tensorflow as tf\n",
    "import matplotlib.pyplot as plt\n",
    "MAX_JETS = 6\n",
    "PLOTS_DIR = f\"plots/\"\n",
    "import os\n",
    "if not os.path.exists(PLOTS_DIR):\n",
    "    os.makedirs(PLOTS_DIR)\n",
    "\n",
    "DataProcessor = DataPreprocessor(jet_features=[\"ordered_jet_pt\", \"ordered_jet_e\", \"ordered_jet_phi\", \"ordered_jet_eta\", \"ordered_jet_b_tag\",\"m_l1j\", \"m_l2j\", \"dR_l1j\", \"dR_l2j\"], \n",
    "                                lepton_features=[\"lep_pt\",\"lep_e\", \"lep_eta\", \"lep_phi\"],\n",
    "                                jet_truth_label=\"ordered_event_jet_truth_idx\", \n",
    "                                lepton_truth_label=\"event_lepton_truth_idx\", \n",
    "                                global_features = [\"met_met_NOSYS\",\"met_phi_NOSYS\"], \n",
    "                                max_leptons=2, \n",
    "                                max_jets = MAX_JETS, \n",
    "                                non_training_features= [\"truth_ttbar_mass\", \"truth_ttbar_pt\", \"N_jets\"], \n",
    "                                event_weight=\"weight_mc_NOSYS\")\n",
    "DataProcessor.load_data(\"/data/dust/group/atlas/ttreco/full_training.root\", \"reco\", max_events=100000)\n",
    "DataProcessor.prepare_data()\n",
    "DataProcessor.normalise_data()\n",
    "DataProcessor.split_data(0.2)"
   ]
  },
  {
   "cell_type": "code",
   "execution_count": null,
   "id": "54d8dce1",
   "metadata": {},
   "outputs": [],
   "source": [
    "reload(TransformerAnalysis)\n",
    "reload(KFold)\n",
    "\n",
    "TransformerMatcher = TransformerAnalysis.FeatureConcatTransformer(DataProcessor); TransformerMatcher.load_data(*DataProcessor.get_data())\n",
    "TransformerMatcher.build_model(\n",
    "    hidden_dim = 32,\n",
    "    num_heads = 8,\n",
    "    num_layers = 3,\n",
    "    dropout_rate = 0.1,\n",
    ")\n",
    "TransformerMatcher.compile_model(\n",
    "    lambda_excl=0, optimizer=keras.optimizers.Adam(learning_rate=1e-4)\n",
    ")\n",
    "TransformerMatcher.model.summary()\n",
    "TransformerMatcher.load_data(*DataProcessor.get_data())"
   ]
  },
  {
   "cell_type": "code",
   "execution_count": null,
   "id": "64adc6ae",
   "metadata": {},
   "outputs": [],
   "source": [
    "TransformerMatcher.train_model(epochs=100,\n",
    "                                batch_size=128,\n",
    "                                verbose=1,\n",
    "                                #weight = \"sample\",\n",
    "                                callbacks = keras.callbacks.EarlyStopping(monitor=\"val_accuracy\", patience=50, restore_best_weights=True, mode =\"max\"))\n"
   ]
  },
  {
   "cell_type": "code",
   "execution_count": null,
   "id": "2cb0b961",
   "metadata": {},
   "outputs": [],
   "source": []
  },
  {
   "cell_type": "code",
   "execution_count": null,
   "id": "21277808",
   "metadata": {},
   "outputs": [],
   "source": [
    "TransformerMatcher.plot_history()"
   ]
  },
  {
   "cell_type": "code",
   "execution_count": null,
   "id": "ffcb2822",
   "metadata": {},
   "outputs": [],
   "source": [
    "TransformerMatcher.plot_confusion_matrix()"
   ]
  },
  {
   "cell_type": "code",
   "execution_count": null,
   "id": "cf65fb95",
   "metadata": {},
   "outputs": [],
   "source": [
    "TransformerMatcher.plot_permutation_importance(shuffle_number=5)"
   ]
  },
  {
   "cell_type": "code",
   "execution_count": null,
   "id": "71d524bd",
   "metadata": {},
   "outputs": [],
   "source": []
  }
 ],
 "metadata": {
  "kernelspec": {
   "display_name": "venv",
   "language": "python",
   "name": "python3"
  },
  "language_info": {
   "codemirror_mode": {
    "name": "ipython",
    "version": 3
   },
   "file_extension": ".py",
   "mimetype": "text/x-python",
   "name": "python",
   "nbconvert_exporter": "python",
   "pygments_lexer": "ipython3",
   "version": "3.9.21"
  }
 },
 "nbformat": 4,
 "nbformat_minor": 5
}
